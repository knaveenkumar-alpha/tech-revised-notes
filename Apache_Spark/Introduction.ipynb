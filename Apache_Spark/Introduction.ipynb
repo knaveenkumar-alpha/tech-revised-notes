{
 "cells": [
  {
   "cell_type": "code",
   "execution_count": 1,
   "id": "2540101b-d398-4903-bd3d-3329512cc23c",
   "metadata": {},
   "outputs": [
    {
     "name": "stdout",
     "output_type": "stream",
     "text": [
      "Naven\n"
     ]
    }
   ],
   "source": [
    "print('Naven')"
   ]
  },
  {
   "cell_type": "code",
   "execution_count": 2,
   "id": "af268e2e-ad93-4487-8c9d-5f17e0079a98",
   "metadata": {},
   "outputs": [
    {
     "name": "stdout",
     "output_type": "stream",
     "text": [
      "Requirement already satisfied: pyspark in c:\\users\\knave\\appdata\\local\\programs\\python\\python39\\lib\\site-packages (3.2.0)\n",
      "Requirement already satisfied: py4j==0.10.9.2 in c:\\users\\knave\\appdata\\local\\programs\\python\\python39\\lib\\site-packages (from pyspark) (0.10.9.2)\n",
      "Note: you may need to restart the kernel to use updated packages.\n"
     ]
    }
   ],
   "source": [
    "pip install pyspark\n"
   ]
  },
  {
   "cell_type": "code",
   "execution_count": null,
   "id": "56840e40-35b7-4fdc-83e8-0a446ae0312b",
   "metadata": {},
   "outputs": [],
   "source": []
  }
 ],
 "metadata": {
  "kernelspec": {
   "display_name": "Python 3 (ipykernel)",
   "language": "python",
   "name": "python3"
  },
  "language_info": {
   "codemirror_mode": {
    "name": "ipython",
    "version": 3
   },
   "file_extension": ".py",
   "mimetype": "text/x-python",
   "name": "python",
   "nbconvert_exporter": "python",
   "pygments_lexer": "ipython3",
   "version": "3.9.6"
  }
 },
 "nbformat": 4,
 "nbformat_minor": 5
}
